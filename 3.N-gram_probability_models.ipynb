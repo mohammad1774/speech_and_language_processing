{
 "cells": [
  {
   "cell_type": "markdown",
   "id": "0cd57e87-6105-4248-9e21-1bca1b554832",
   "metadata": {},
   "source": [
    "## Probability Models"
   ]
  },
  {
   "cell_type": "code",
   "execution_count": null,
   "id": "256b8a96-8618-4c53-afa5-1a724f5bfb30",
   "metadata": {},
   "outputs": [],
   "source": [
    "#N-gram Probabilities, where N is the window size of the context,center pairs\n"
   ]
  }
 ],
 "metadata": {
  "kernelspec": {
   "display_name": "Python (cuda-env GPU)",
   "language": "python",
   "name": "cuda-env"
  },
  "language_info": {
   "codemirror_mode": {
    "name": "ipython",
    "version": 3
   },
   "file_extension": ".py",
   "mimetype": "text/x-python",
   "name": "python",
   "nbconvert_exporter": "python",
   "pygments_lexer": "ipython3",
   "version": "3.9.24"
  }
 },
 "nbformat": 4,
 "nbformat_minor": 5
}
